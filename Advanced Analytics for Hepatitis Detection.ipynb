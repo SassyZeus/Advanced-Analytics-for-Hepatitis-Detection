{
  "nbformat": 4,
  "nbformat_minor": 0,
  "metadata": {
    "colab": {
      "provenance": []
    },
    "kernelspec": {
      "name": "python3",
      "display_name": "Python 3"
    },
    "language_info": {
      "name": "python"
    }
  },
  "cells": [
    {
      "cell_type": "code",
      "execution_count": null,
      "metadata": {
        "colab": {
          "base_uri": "https://localhost:8080/"
        },
        "id": "TEyJQB6Mu7q-",
        "outputId": "aaad6047-33db-4c52-f503-23abd7d8dc62"
      },
      "outputs": [
        {
          "output_type": "stream",
          "name": "stdout",
          "text": [
            "Drive already mounted at /gdrive; to attempt to forcibly remount, call drive.mount(\"/gdrive\", force_remount=True).\n",
            "/gdrive\n"
          ]
        }
      ],
      "source": [
        "# To upload our datasets from our working directory we need to mount our drive contents to the colab environment.\n",
        "# For the code to do so you can search “mount” in code snippets or use the code given below.\n",
        "# Our entire drive contents are now mounted on colab at the location “/gdrive”.\n",
        "\n",
        "from google.colab import drive\n",
        "drive.mount('/gdrive')\n",
        "%cd /gdrive"
      ]
    },
    {
      "cell_type": "code",
      "source": [
        "import pandas as pd\n",
        "from sklearn.model_selection import train_test_split\n",
        "from sklearn.svm import LinearSVC\n",
        "from sklearn.tree import DecisionTreeClassifier\n",
        "from sklearn.ensemble import RandomForestClassifier\n",
        "from sklearn.neighbors import KNeighborsClassifier\n",
        "from sklearn.metrics import accuracy_score, precision_score, recall_score, f1_score"
      ],
      "metadata": {
        "id": "rm-qoF1KvJAP"
      },
      "execution_count": null,
      "outputs": []
    },
    {
      "cell_type": "code",
      "source": [
        "trainfile = r'/gdrive/My Drive/Hepatitis-Train.csv'\n",
        "trainData = pd.read_csv(trainfile)  #creates a dataframe\n",
        "testfile = r'/gdrive/My Drive/Hepatitis-Test.csv'\n",
        "testData = pd.read_csv(testfile)  #creates a dataframe\n",
        "print(trainData.shape)\n",
        "print(testData.shape)"
      ],
      "metadata": {
        "colab": {
          "base_uri": "https://localhost:8080/"
        },
        "id": "qUJmsYwpvJYr",
        "outputId": "9a611e1f-2d9c-4bdc-e791-dfc16774df28"
      },
      "execution_count": null,
      "outputs": [
        {
          "output_type": "stream",
          "name": "stdout",
          "text": [
            "(134, 20)\n",
            "(11, 20)\n"
          ]
        }
      ]
    },
    {
      "cell_type": "code",
      "source": [
        "trainData.head()\n",
        "#print(\"=======\")\n",
        "testData.head()"
      ],
      "metadata": {
        "colab": {
          "base_uri": "https://localhost:8080/",
          "height": 223
        },
        "id": "msh1Ak9HvJ05",
        "outputId": "99e478d7-3dc6-4a11-f3a2-ac9de49318bd"
      },
      "execution_count": null,
      "outputs": [
        {
          "output_type": "execute_result",
          "data": {
            "text/plain": [
              "   Age   Sex Steroid Antivirals Fatigue Malaise Anorexia Liver Big Liver Firm Spleen Palpable Spiders Ascites Varices  Bilirubin  ALK Phosphate  SGOT  Albumin  PROTIME Histology  TARGET\n",
              "0   54  Male      no        yes      no      no      yes       yes        yes              no     yes      no     yes        3.9            120    28      3.5    43.00       yes       1\n",
              "1   49  Male      no        yes      no      no      yes       yes        yes              no      no     yes     yes        1.4             85    70      3.5    35.00       yes       1\n",
              "2   45  Male     yes        yes      no      no       no       yes        yes             yes      no      no     yes        1.9            104   114      2.4    62.16       yes       1\n",
              "3   41  Male     yes        yes      no     yes      yes       yes         no              no      no     yes      no        4.2             65   120      3.4    62.16       yes       1\n",
              "4   46  Male     yes        yes      no      no       no       yes        yes             yes      no      no      no        7.6            104   242      3.3    50.00       yes       1"
            ],
            "text/html": [
              "\n",
              "  <div id=\"df-ae22d9ae-7083-4d04-ade1-30700ce4290c\" class=\"colab-df-container\">\n",
              "    <div>\n",
              "<style scoped>\n",
              "    .dataframe tbody tr th:only-of-type {\n",
              "        vertical-align: middle;\n",
              "    }\n",
              "\n",
              "    .dataframe tbody tr th {\n",
              "        vertical-align: top;\n",
              "    }\n",
              "\n",
              "    .dataframe thead th {\n",
              "        text-align: right;\n",
              "    }\n",
              "</style>\n",
              "<table border=\"1\" class=\"dataframe\">\n",
              "  <thead>\n",
              "    <tr style=\"text-align: right;\">\n",
              "      <th></th>\n",
              "      <th>Age</th>\n",
              "      <th>Sex</th>\n",
              "      <th>Steroid</th>\n",
              "      <th>Antivirals</th>\n",
              "      <th>Fatigue</th>\n",
              "      <th>Malaise</th>\n",
              "      <th>Anorexia</th>\n",
              "      <th>Liver Big</th>\n",
              "      <th>Liver Firm</th>\n",
              "      <th>Spleen Palpable</th>\n",
              "      <th>Spiders</th>\n",
              "      <th>Ascites</th>\n",
              "      <th>Varices</th>\n",
              "      <th>Bilirubin</th>\n",
              "      <th>ALK Phosphate</th>\n",
              "      <th>SGOT</th>\n",
              "      <th>Albumin</th>\n",
              "      <th>PROTIME</th>\n",
              "      <th>Histology</th>\n",
              "      <th>TARGET</th>\n",
              "    </tr>\n",
              "  </thead>\n",
              "  <tbody>\n",
              "    <tr>\n",
              "      <th>0</th>\n",
              "      <td>54</td>\n",
              "      <td>Male</td>\n",
              "      <td>no</td>\n",
              "      <td>yes</td>\n",
              "      <td>no</td>\n",
              "      <td>no</td>\n",
              "      <td>yes</td>\n",
              "      <td>yes</td>\n",
              "      <td>yes</td>\n",
              "      <td>no</td>\n",
              "      <td>yes</td>\n",
              "      <td>no</td>\n",
              "      <td>yes</td>\n",
              "      <td>3.9</td>\n",
              "      <td>120</td>\n",
              "      <td>28</td>\n",
              "      <td>3.5</td>\n",
              "      <td>43.00</td>\n",
              "      <td>yes</td>\n",
              "      <td>1</td>\n",
              "    </tr>\n",
              "    <tr>\n",
              "      <th>1</th>\n",
              "      <td>49</td>\n",
              "      <td>Male</td>\n",
              "      <td>no</td>\n",
              "      <td>yes</td>\n",
              "      <td>no</td>\n",
              "      <td>no</td>\n",
              "      <td>yes</td>\n",
              "      <td>yes</td>\n",
              "      <td>yes</td>\n",
              "      <td>no</td>\n",
              "      <td>no</td>\n",
              "      <td>yes</td>\n",
              "      <td>yes</td>\n",
              "      <td>1.4</td>\n",
              "      <td>85</td>\n",
              "      <td>70</td>\n",
              "      <td>3.5</td>\n",
              "      <td>35.00</td>\n",
              "      <td>yes</td>\n",
              "      <td>1</td>\n",
              "    </tr>\n",
              "    <tr>\n",
              "      <th>2</th>\n",
              "      <td>45</td>\n",
              "      <td>Male</td>\n",
              "      <td>yes</td>\n",
              "      <td>yes</td>\n",
              "      <td>no</td>\n",
              "      <td>no</td>\n",
              "      <td>no</td>\n",
              "      <td>yes</td>\n",
              "      <td>yes</td>\n",
              "      <td>yes</td>\n",
              "      <td>no</td>\n",
              "      <td>no</td>\n",
              "      <td>yes</td>\n",
              "      <td>1.9</td>\n",
              "      <td>104</td>\n",
              "      <td>114</td>\n",
              "      <td>2.4</td>\n",
              "      <td>62.16</td>\n",
              "      <td>yes</td>\n",
              "      <td>1</td>\n",
              "    </tr>\n",
              "    <tr>\n",
              "      <th>3</th>\n",
              "      <td>41</td>\n",
              "      <td>Male</td>\n",
              "      <td>yes</td>\n",
              "      <td>yes</td>\n",
              "      <td>no</td>\n",
              "      <td>yes</td>\n",
              "      <td>yes</td>\n",
              "      <td>yes</td>\n",
              "      <td>no</td>\n",
              "      <td>no</td>\n",
              "      <td>no</td>\n",
              "      <td>yes</td>\n",
              "      <td>no</td>\n",
              "      <td>4.2</td>\n",
              "      <td>65</td>\n",
              "      <td>120</td>\n",
              "      <td>3.4</td>\n",
              "      <td>62.16</td>\n",
              "      <td>yes</td>\n",
              "      <td>1</td>\n",
              "    </tr>\n",
              "    <tr>\n",
              "      <th>4</th>\n",
              "      <td>46</td>\n",
              "      <td>Male</td>\n",
              "      <td>yes</td>\n",
              "      <td>yes</td>\n",
              "      <td>no</td>\n",
              "      <td>no</td>\n",
              "      <td>no</td>\n",
              "      <td>yes</td>\n",
              "      <td>yes</td>\n",
              "      <td>yes</td>\n",
              "      <td>no</td>\n",
              "      <td>no</td>\n",
              "      <td>no</td>\n",
              "      <td>7.6</td>\n",
              "      <td>104</td>\n",
              "      <td>242</td>\n",
              "      <td>3.3</td>\n",
              "      <td>50.00</td>\n",
              "      <td>yes</td>\n",
              "      <td>1</td>\n",
              "    </tr>\n",
              "  </tbody>\n",
              "</table>\n",
              "</div>\n",
              "    <div class=\"colab-df-buttons\">\n",
              "\n",
              "  <div class=\"colab-df-container\">\n",
              "    <button class=\"colab-df-convert\" onclick=\"convertToInteractive('df-ae22d9ae-7083-4d04-ade1-30700ce4290c')\"\n",
              "            title=\"Convert this dataframe to an interactive table.\"\n",
              "            style=\"display:none;\">\n",
              "\n",
              "  <svg xmlns=\"http://www.w3.org/2000/svg\" height=\"24px\" viewBox=\"0 -960 960 960\">\n",
              "    <path d=\"M120-120v-720h720v720H120Zm60-500h600v-160H180v160Zm220 220h160v-160H400v160Zm0 220h160v-160H400v160ZM180-400h160v-160H180v160Zm440 0h160v-160H620v160ZM180-180h160v-160H180v160Zm440 0h160v-160H620v160Z\"/>\n",
              "  </svg>\n",
              "    </button>\n",
              "\n",
              "  <style>\n",
              "    .colab-df-container {\n",
              "      display:flex;\n",
              "      gap: 12px;\n",
              "    }\n",
              "\n",
              "    .colab-df-convert {\n",
              "      background-color: #E8F0FE;\n",
              "      border: none;\n",
              "      border-radius: 50%;\n",
              "      cursor: pointer;\n",
              "      display: none;\n",
              "      fill: #1967D2;\n",
              "      height: 32px;\n",
              "      padding: 0 0 0 0;\n",
              "      width: 32px;\n",
              "    }\n",
              "\n",
              "    .colab-df-convert:hover {\n",
              "      background-color: #E2EBFA;\n",
              "      box-shadow: 0px 1px 2px rgba(60, 64, 67, 0.3), 0px 1px 3px 1px rgba(60, 64, 67, 0.15);\n",
              "      fill: #174EA6;\n",
              "    }\n",
              "\n",
              "    .colab-df-buttons div {\n",
              "      margin-bottom: 4px;\n",
              "    }\n",
              "\n",
              "    [theme=dark] .colab-df-convert {\n",
              "      background-color: #3B4455;\n",
              "      fill: #D2E3FC;\n",
              "    }\n",
              "\n",
              "    [theme=dark] .colab-df-convert:hover {\n",
              "      background-color: #434B5C;\n",
              "      box-shadow: 0px 1px 3px 1px rgba(0, 0, 0, 0.15);\n",
              "      filter: drop-shadow(0px 1px 2px rgba(0, 0, 0, 0.3));\n",
              "      fill: #FFFFFF;\n",
              "    }\n",
              "  </style>\n",
              "\n",
              "    <script>\n",
              "      const buttonEl =\n",
              "        document.querySelector('#df-ae22d9ae-7083-4d04-ade1-30700ce4290c button.colab-df-convert');\n",
              "      buttonEl.style.display =\n",
              "        google.colab.kernel.accessAllowed ? 'block' : 'none';\n",
              "\n",
              "      async function convertToInteractive(key) {\n",
              "        const element = document.querySelector('#df-ae22d9ae-7083-4d04-ade1-30700ce4290c');\n",
              "        const dataTable =\n",
              "          await google.colab.kernel.invokeFunction('convertToInteractive',\n",
              "                                                    [key], {});\n",
              "        if (!dataTable) return;\n",
              "\n",
              "        const docLinkHtml = 'Like what you see? Visit the ' +\n",
              "          '<a target=\"_blank\" href=https://colab.research.google.com/notebooks/data_table.ipynb>data table notebook</a>'\n",
              "          + ' to learn more about interactive tables.';\n",
              "        element.innerHTML = '';\n",
              "        dataTable['output_type'] = 'display_data';\n",
              "        await google.colab.output.renderOutput(dataTable, element);\n",
              "        const docLink = document.createElement('div');\n",
              "        docLink.innerHTML = docLinkHtml;\n",
              "        element.appendChild(docLink);\n",
              "      }\n",
              "    </script>\n",
              "  </div>\n",
              "\n",
              "\n",
              "<div id=\"df-dd12f7be-326c-4ae3-9c17-5fcf1bc19746\">\n",
              "  <button class=\"colab-df-quickchart\" onclick=\"quickchart('df-dd12f7be-326c-4ae3-9c17-5fcf1bc19746')\"\n",
              "            title=\"Suggest charts\"\n",
              "            style=\"display:none;\">\n",
              "\n",
              "<svg xmlns=\"http://www.w3.org/2000/svg\" height=\"24px\"viewBox=\"0 0 24 24\"\n",
              "     width=\"24px\">\n",
              "    <g>\n",
              "        <path d=\"M19 3H5c-1.1 0-2 .9-2 2v14c0 1.1.9 2 2 2h14c1.1 0 2-.9 2-2V5c0-1.1-.9-2-2-2zM9 17H7v-7h2v7zm4 0h-2V7h2v10zm4 0h-2v-4h2v4z\"/>\n",
              "    </g>\n",
              "</svg>\n",
              "  </button>\n",
              "\n",
              "<style>\n",
              "  .colab-df-quickchart {\n",
              "      --bg-color: #E8F0FE;\n",
              "      --fill-color: #1967D2;\n",
              "      --hover-bg-color: #E2EBFA;\n",
              "      --hover-fill-color: #174EA6;\n",
              "      --disabled-fill-color: #AAA;\n",
              "      --disabled-bg-color: #DDD;\n",
              "  }\n",
              "\n",
              "  [theme=dark] .colab-df-quickchart {\n",
              "      --bg-color: #3B4455;\n",
              "      --fill-color: #D2E3FC;\n",
              "      --hover-bg-color: #434B5C;\n",
              "      --hover-fill-color: #FFFFFF;\n",
              "      --disabled-bg-color: #3B4455;\n",
              "      --disabled-fill-color: #666;\n",
              "  }\n",
              "\n",
              "  .colab-df-quickchart {\n",
              "    background-color: var(--bg-color);\n",
              "    border: none;\n",
              "    border-radius: 50%;\n",
              "    cursor: pointer;\n",
              "    display: none;\n",
              "    fill: var(--fill-color);\n",
              "    height: 32px;\n",
              "    padding: 0;\n",
              "    width: 32px;\n",
              "  }\n",
              "\n",
              "  .colab-df-quickchart:hover {\n",
              "    background-color: var(--hover-bg-color);\n",
              "    box-shadow: 0 1px 2px rgba(60, 64, 67, 0.3), 0 1px 3px 1px rgba(60, 64, 67, 0.15);\n",
              "    fill: var(--button-hover-fill-color);\n",
              "  }\n",
              "\n",
              "  .colab-df-quickchart-complete:disabled,\n",
              "  .colab-df-quickchart-complete:disabled:hover {\n",
              "    background-color: var(--disabled-bg-color);\n",
              "    fill: var(--disabled-fill-color);\n",
              "    box-shadow: none;\n",
              "  }\n",
              "\n",
              "  .colab-df-spinner {\n",
              "    border: 2px solid var(--fill-color);\n",
              "    border-color: transparent;\n",
              "    border-bottom-color: var(--fill-color);\n",
              "    animation:\n",
              "      spin 1s steps(1) infinite;\n",
              "  }\n",
              "\n",
              "  @keyframes spin {\n",
              "    0% {\n",
              "      border-color: transparent;\n",
              "      border-bottom-color: var(--fill-color);\n",
              "      border-left-color: var(--fill-color);\n",
              "    }\n",
              "    20% {\n",
              "      border-color: transparent;\n",
              "      border-left-color: var(--fill-color);\n",
              "      border-top-color: var(--fill-color);\n",
              "    }\n",
              "    30% {\n",
              "      border-color: transparent;\n",
              "      border-left-color: var(--fill-color);\n",
              "      border-top-color: var(--fill-color);\n",
              "      border-right-color: var(--fill-color);\n",
              "    }\n",
              "    40% {\n",
              "      border-color: transparent;\n",
              "      border-right-color: var(--fill-color);\n",
              "      border-top-color: var(--fill-color);\n",
              "    }\n",
              "    60% {\n",
              "      border-color: transparent;\n",
              "      border-right-color: var(--fill-color);\n",
              "    }\n",
              "    80% {\n",
              "      border-color: transparent;\n",
              "      border-right-color: var(--fill-color);\n",
              "      border-bottom-color: var(--fill-color);\n",
              "    }\n",
              "    90% {\n",
              "      border-color: transparent;\n",
              "      border-bottom-color: var(--fill-color);\n",
              "    }\n",
              "  }\n",
              "</style>\n",
              "\n",
              "  <script>\n",
              "    async function quickchart(key) {\n",
              "      const quickchartButtonEl =\n",
              "        document.querySelector('#' + key + ' button');\n",
              "      quickchartButtonEl.disabled = true;  // To prevent multiple clicks.\n",
              "      quickchartButtonEl.classList.add('colab-df-spinner');\n",
              "      try {\n",
              "        const charts = await google.colab.kernel.invokeFunction(\n",
              "            'suggestCharts', [key], {});\n",
              "      } catch (error) {\n",
              "        console.error('Error during call to suggestCharts:', error);\n",
              "      }\n",
              "      quickchartButtonEl.classList.remove('colab-df-spinner');\n",
              "      quickchartButtonEl.classList.add('colab-df-quickchart-complete');\n",
              "    }\n",
              "    (() => {\n",
              "      let quickchartButtonEl =\n",
              "        document.querySelector('#df-dd12f7be-326c-4ae3-9c17-5fcf1bc19746 button');\n",
              "      quickchartButtonEl.style.display =\n",
              "        google.colab.kernel.accessAllowed ? 'block' : 'none';\n",
              "    })();\n",
              "  </script>\n",
              "</div>\n",
              "    </div>\n",
              "  </div>\n"
            ]
          },
          "metadata": {},
          "execution_count": 25
        }
      ]
    },
    {
      "cell_type": "code",
      "source": [
        "#Extract Target Column before doing missing value substitutions and one-hot encoding======\n",
        "Target_Train_Cols = trainData[\"TARGET\"]#make copy of target column\n",
        "trainData = trainData.drop([\"TARGET\"], axis=1) #extracting training data without the target column\n",
        "\n",
        "print(trainData.shape)"
      ],
      "metadata": {
        "colab": {
          "base_uri": "https://localhost:8080/"
        },
        "id": "p-bx-OXKvSib",
        "outputId": "4177a490-0e3c-43b6-9214-61ecdd922a4e"
      },
      "execution_count": null,
      "outputs": [
        {
          "output_type": "stream",
          "name": "stdout",
          "text": [
            "(134, 19)\n"
          ]
        }
      ]
    },
    {
      "cell_type": "code",
      "source": [
        "Target_Test_Cols = testData[\"TARGET\"]#make copy of target column\n",
        "testData = testData.drop([\"TARGET\"], axis=1) #extracting training data without the target column\n",
        "\n",
        "print(testData.shape)"
      ],
      "metadata": {
        "colab": {
          "base_uri": "https://localhost:8080/"
        },
        "id": "SsA3VXR5vSgo",
        "outputId": "b9b61808-a34c-40a2-fea2-4f541609b17b"
      },
      "execution_count": null,
      "outputs": [
        {
          "output_type": "stream",
          "name": "stdout",
          "text": [
            "(11, 19)\n"
          ]
        }
      ]
    },
    {
      "cell_type": "code",
      "source": [
        "# Drop rows with missing values\n",
        "#trainData.dropna(inplace=True)\n",
        "#testData.dropna(inplace=True)"
      ],
      "metadata": {
        "id": "G35GII-hvSUG"
      },
      "execution_count": null,
      "outputs": []
    },
    {
      "cell_type": "code",
      "source": [
        "# Drop rows with missing values\n",
        "trainData.dropna(inplace=True)\n",
        "testData.dropna(inplace=True)\n",
        "\n",
        "# One-Hot Encoding for Categorical Variables\n",
        "trainData_encoded = pd.get_dummies(trainData)\n",
        "testData_encoded = pd.get_dummies(testData)\n",
        "\n",
        "# Print the columns after one-hot encoding\n",
        "print(\"Columns after One-Hot Encoding for Training Data:\")\n",
        "print(trainData_encoded.columns)\n",
        "\n",
        "print(\"\\nColumns after One-Hot Encoding for Testing Data:\")\n",
        "print(testData_encoded.columns)\n",
        "\n",
        "# Align the columns in the training and testing datasets after one-hot encoding\n",
        "common_columns = trainData_encoded.columns.intersection(testData_encoded.columns)\n",
        "\n",
        "X_train = trainData_encoded[common_columns]\n",
        "X_test = testData_encoded[common_columns]\n",
        "\n"
      ],
      "metadata": {
        "colab": {
          "base_uri": "https://localhost:8080/"
        },
        "id": "qJ6KSo-RvSQs",
        "outputId": "dea6d673-03f1-40f2-d48f-7504e7eef67c"
      },
      "execution_count": null,
      "outputs": [
        {
          "output_type": "stream",
          "name": "stdout",
          "text": [
            "Columns after One-Hot Encoding for Training Data:\n",
            "Index(['Age', 'Bilirubin', 'ALK Phosphate', 'SGOT', 'Albumin', 'PROTIME', 'Sex_Female', 'Sex_Male', 'Steroid_no', 'Steroid_yes', 'Antivirals_no', 'Antivirals_yes', 'Fatigue_no', 'Fatigue_yes', 'Malaise_no', 'Malaise_yes', 'Anorexia_no', 'Anorexia_yes', 'Liver Big_no', 'Liver Big_yes', 'Liver Firm_no', 'Liver Firm_yes', 'Spleen Palpable_no', 'Spleen Palpable_yes', 'Spiders_no', 'Spiders_yes', 'Ascites_no', 'Ascites_yes', 'Varices_no', 'Varices_yes', 'Histology_no', 'Histology_yes'], dtype='object')\n",
            "\n",
            "Columns after One-Hot Encoding for Testing Data:\n",
            "Index(['Age', 'Bilirubin', 'ALK Phosphate', 'SGOT', 'Albumin', 'PROTIME', 'Sex_Male', 'Steroid_no', 'Steroid_yes', 'Antivirals_yes', 'Fatigue_no', 'Fatigue_yes', 'Malaise_no', 'Malaise_yes', 'Anorexia_no', 'Anorexia_yes', 'Liver Big_no', 'Liver Big_yes', 'Liver Firm_no', 'Liver Firm_yes', 'Spleen Palpable_no', 'Spleen Palpable_yes', 'Spiders_no', 'Spiders_yes', 'Ascites_no', 'Ascites_yes', 'Varices_no', 'Varices_yes', 'Histology_yes'], dtype='object')\n"
          ]
        }
      ]
    },
    {
      "cell_type": "code",
      "source": [
        "# Split the data into features and target\n",
        "#X_train = trainData\n",
        "#y_train = Target_Train_Cols\n",
        "#X_test = testData\n",
        "#y_test = Target_Test_Cols"
      ],
      "metadata": {
        "id": "fRbxaXWSvSPp"
      },
      "execution_count": null,
      "outputs": []
    },
    {
      "cell_type": "code",
      "source": [
        "# LinearSVC\n",
        "linear_svc = LinearSVC()\n",
        "linear_svc.fit(X_train, y_train)\n",
        "linear_svc_predictions = linear_svc.predict(X_test)"
      ],
      "metadata": {
        "colab": {
          "base_uri": "https://localhost:8080/"
        },
        "id": "yDSayKEtvSMX",
        "outputId": "19213009-0777-4811-d7ef-64816dd11211"
      },
      "execution_count": null,
      "outputs": [
        {
          "output_type": "stream",
          "name": "stderr",
          "text": [
            "/usr/local/lib/python3.10/dist-packages/sklearn/svm/_base.py:1244: ConvergenceWarning: Liblinear failed to converge, increase the number of iterations.\n",
            "  warnings.warn(\n"
          ]
        }
      ]
    },
    {
      "cell_type": "code",
      "source": [
        "# Decision Tree\n",
        "decision_tree = DecisionTreeClassifier()\n",
        "decision_tree.fit(X_train, y_train)\n",
        "decision_tree_predictions = decision_tree.predict(X_test)"
      ],
      "metadata": {
        "id": "5CpAzJTavSK2"
      },
      "execution_count": null,
      "outputs": []
    },
    {
      "cell_type": "code",
      "source": [
        "# Random Forest\n",
        "random_forest = RandomForestClassifier()\n",
        "random_forest.fit(X_train, y_train)\n",
        "random_forest_predictions = random_forest.predict(X_test)"
      ],
      "metadata": {
        "id": "x5xGVOzxvSHU"
      },
      "execution_count": null,
      "outputs": []
    },
    {
      "cell_type": "code",
      "source": [
        "# K-Nearest Neighbor\n",
        "knn = KNeighborsClassifier()\n",
        "knn.fit(X_train, y_train)\n",
        "knn_predictions = knn.predict(X_test)"
      ],
      "metadata": {
        "id": "85JZlFsivSF5"
      },
      "execution_count": null,
      "outputs": []
    },
    {
      "cell_type": "code",
      "source": [
        "# (2) Record average accuracy, precision, recall, and F1 score on the test set for each classifier\n",
        "\n",
        "classifiers = [linear_svc, decision_tree, random_forest, knn]\n",
        "classifier_names = ['LinearSVC', 'Decision Tree', 'Random Forest', 'K-Nearest Neighbor']\n",
        "\n",
        "results = pd.DataFrame(columns=['Classifier', 'Accuracy', 'Precision', 'Recall', 'F1 Score'])\n",
        "\n",
        "for i, classifier in enumerate(classifiers):\n",
        "    predictions = classifier.predict(X_test)\n",
        "    accuracy = accuracy_score(y_test, predictions)\n",
        "    precision = precision_score(y_test, predictions)\n",
        "    recall = recall_score(y_test, predictions)\n",
        "    f1 = f1_score(y_test, predictions)\n",
        "\n",
        "    results = results.append({\n",
        "        'Classifier': classifier_names[i],\n",
        "        'Accuracy': accuracy,\n",
        "        'Precision': precision,\n",
        "        'Recall': recall,\n",
        "        'F1 Score': f1\n",
        "    }, ignore_index=True)\n",
        "\n",
        "# Display results\n",
        "print(results)\n",
        "\n",
        "# Save the results to a CSV file in your Google Drive\n",
        "results.to_csv('/gdrive/MyDrive/classification_results.csv', index=False)\n"
      ],
      "metadata": {
        "colab": {
          "base_uri": "https://localhost:8080/"
        },
        "id": "XSPldskKvSB6",
        "outputId": "ac5d3cb7-c23f-41de-c32d-b256a2518130"
      },
      "execution_count": null,
      "outputs": [
        {
          "output_type": "stream",
          "name": "stderr",
          "text": [
            "<ipython-input-47-621946ee19db>:15: FutureWarning: The frame.append method is deprecated and will be removed from pandas in a future version. Use pandas.concat instead.\n",
            "  results = results.append({\n",
            "<ipython-input-47-621946ee19db>:15: FutureWarning: The frame.append method is deprecated and will be removed from pandas in a future version. Use pandas.concat instead.\n",
            "  results = results.append({\n",
            "<ipython-input-47-621946ee19db>:15: FutureWarning: The frame.append method is deprecated and will be removed from pandas in a future version. Use pandas.concat instead.\n",
            "  results = results.append({\n"
          ]
        },
        {
          "output_type": "stream",
          "name": "stdout",
          "text": [
            "           Classifier  Accuracy  Precision  Recall  F1 Score\n",
            "0           LinearSVC  0.818182   1.000000     0.6  0.750000\n",
            "1       Decision Tree  0.909091   0.833333     1.0  0.909091\n",
            "2       Random Forest  0.727273   0.666667     0.8  0.727273\n",
            "3  K-Nearest Neighbor  0.454545   0.454545     1.0  0.625000\n"
          ]
        },
        {
          "output_type": "stream",
          "name": "stderr",
          "text": [
            "<ipython-input-47-621946ee19db>:15: FutureWarning: The frame.append method is deprecated and will be removed from pandas in a future version. Use pandas.concat instead.\n",
            "  results = results.append({\n"
          ]
        }
      ]
    },
    {
      "cell_type": "code",
      "source": [
        "from sklearn.model_selection import RandomizedSearchCV\n",
        "\n",
        "# Define the Random Forest classifier\n",
        "random_forest = RandomForestClassifier()\n",
        "\n",
        "# Define the hyperparameter grid\n",
        "param_grid = {\n",
        "    'n_estimators': [50, 100, 200],  # Number of trees in the forest\n",
        "    'max_depth': [None, 10, 20, 30],  # Maximum depth of the tree\n",
        "    'min_samples_split': [2, 5, 10],  # Minimum number of samples required to split an internal node\n",
        "    'min_samples_leaf': [1, 2, 4]  # Minimum number of samples required to be at a leaf node\n",
        "}\n",
        "\n",
        "# Create RandomizedSearchCV object\n",
        "random_search = RandomizedSearchCV(\n",
        "    estimator=random_forest,\n",
        "    param_distributions=param_grid,\n",
        "    n_iter=10,  # Number of parameter settings that are sampled\n",
        "    scoring='accuracy',  # You can choose other metrics based on your problem\n",
        "    cv=5,  # Number of folds for cross-validation\n",
        "    random_state=42\n",
        ")\n",
        "\n",
        "# Fit the RandomizedSearchCV object to the data\n",
        "random_search.fit(X_train, y_train)\n",
        "\n",
        "# Print the best hyperparameters found\n",
        "print(\"Best Hyperparameters:\", random_search.best_params_)\n",
        "\n",
        "# Use the best estimator for predictions\n",
        "best_random_forest = random_search.best_estimator_\n",
        "random_forest_predictions = best_random_forest.predict(X_test)\n",
        "\n",
        "# Evaluate the performance of the best model\n",
        "accuracy = accuracy_score(y_test, random_forest_predictions)\n",
        "precision = precision_score(y_test, random_forest_predictions)\n",
        "recall = recall_score(y_test, random_forest_predictions)\n",
        "f1 = f1_score(y_test, random_forest_predictions)\n",
        "\n",
        "# Display the evaluation metrics\n",
        "print(\"\\nEvaluation Metrics for Best Random Forest Model:\")\n",
        "print(\"Accuracy:\", accuracy)\n",
        "print(\"Precision:\", precision)\n",
        "print(\"Recall:\", recall)\n",
        "print(\"F1 Score:\", f1)\n"
      ],
      "metadata": {
        "colab": {
          "base_uri": "https://localhost:8080/"
        },
        "id": "00MVt-P8vSAb",
        "outputId": "6d9861f4-0b3e-4d0b-d4fd-cb1d5d1ab144"
      },
      "execution_count": null,
      "outputs": [
        {
          "output_type": "stream",
          "name": "stdout",
          "text": [
            "Best Hyperparameters: {'n_estimators': 200, 'min_samples_split': 5, 'min_samples_leaf': 4, 'max_depth': 20}\n",
            "\n",
            "Evaluation Metrics for Best Random Forest Model:\n",
            "Accuracy: 0.7272727272727273\n",
            "Precision: 0.625\n",
            "Recall: 1.0\n",
            "F1 Score: 0.7692307692307693\n"
          ]
        }
      ]
    },
    {
      "cell_type": "code",
      "source": [
        "# Retrieve the best hyperparameters found\n",
        "best_params = random_search.best_params_\n",
        "\n",
        "# Describe the best parameters\n",
        "print(\"Best Hyperparameters Found:\")\n",
        "print(\"Number of Trees (n_estimators):\", best_params['n_estimators'])\n",
        "print(\"Maximum Depth of Tree (max_depth):\", best_params['max_depth'])\n",
        "print(\"Minimum Samples Split (min_samples_split):\", best_params['min_samples_split'])\n",
        "print(\"Minimum Samples Leaf (min_samples_leaf):\", best_params['min_samples_leaf'])\n",
        "\n",
        "# Construct a Random Forest classifier with the best parameters\n",
        "best_random_forest = RandomForestClassifier(\n",
        "    n_estimators=best_params['n_estimators'],\n",
        "    max_depth=best_params['max_depth'],\n",
        "    min_samples_split=best_params['min_samples_split'],\n",
        "    min_samples_leaf=best_params['min_samples_leaf']\n",
        ")\n",
        "\n",
        "# Fit the best model to the training data\n",
        "best_random_forest.fit(X_train, y_train)\n",
        "\n",
        "# Make predictions on the test set\n",
        "best_random_forest_predictions = best_random_forest.predict(X_test)\n",
        "\n",
        "# Evaluate the performance of the best model\n",
        "accuracy = accuracy_score(y_test, best_random_forest_predictions)\n",
        "precision = precision_score(y_test, best_random_forest_predictions)\n",
        "recall = recall_score(y_test, best_random_forest_predictions)\n",
        "f1 = f1_score(y_test, best_random_forest_predictions)\n",
        "\n",
        "# Display the evaluation metrics\n",
        "print(\"\\nEvaluation Metrics for Best Random Forest Model:\")\n",
        "print(\"Accuracy:\", accuracy)\n",
        "print(\"Precision:\", precision)\n",
        "print(\"Recall:\", recall)\n",
        "print(\"F1 Score:\", f1)\n"
      ],
      "metadata": {
        "colab": {
          "base_uri": "https://localhost:8080/"
        },
        "id": "2mDjVgEMvR2J",
        "outputId": "2dd73086-063b-4cb1-f4c9-088b514050e4"
      },
      "execution_count": null,
      "outputs": [
        {
          "output_type": "stream",
          "name": "stdout",
          "text": [
            "Best Hyperparameters Found:\n",
            "Number of Trees (n_estimators): 200\n",
            "Maximum Depth of Tree (max_depth): 20\n",
            "Minimum Samples Split (min_samples_split): 5\n",
            "Minimum Samples Leaf (min_samples_leaf): 4\n",
            "\n",
            "Evaluation Metrics for Best Random Forest Model:\n",
            "Accuracy: 0.5454545454545454\n",
            "Precision: 0.5\n",
            "Recall: 0.8\n",
            "F1 Score: 0.6153846153846154\n"
          ]
        }
      ]
    },
    {
      "cell_type": "code",
      "source": [
        "# Record the evaluation metrics for the hyperparameter-tuned Random Forest classifier\n",
        "tuned_random_forest_metrics = {\n",
        "    'Classifier': 'Tuned Random Forest',\n",
        "    'Accuracy': accuracy,\n",
        "    'Precision': precision,\n",
        "    'Recall': recall,\n",
        "    'F1 Score': f1\n",
        "}\n",
        "\n",
        "# Append the metrics to the existing results DataFrame\n",
        "results = results.append(tuned_random_forest_metrics, ignore_index=True)\n",
        "\n",
        "# Display the updated results\n",
        "print(results)\n",
        "\n",
        "# Save the updated results to a CSV file in your Google Drive\n",
        "results.to_csv('/gdrive/MyDrive/classification_results1.csv', index=False)\n"
      ],
      "metadata": {
        "colab": {
          "base_uri": "https://localhost:8080/"
        },
        "id": "qEIclOxd3BhK",
        "outputId": "a256b1b7-042e-4f7f-ee4d-56f36ca1c2a7"
      },
      "execution_count": null,
      "outputs": [
        {
          "output_type": "stream",
          "name": "stdout",
          "text": [
            "            Classifier  Accuracy  Precision  Recall  F1 Score\n",
            "0            LinearSVC  0.818182   1.000000     0.6  0.750000\n",
            "1        Decision Tree  0.909091   0.833333     1.0  0.909091\n",
            "2        Random Forest  0.727273   0.666667     0.8  0.727273\n",
            "3   K-Nearest Neighbor  0.454545   0.454545     1.0  0.625000\n",
            "4  Tuned Random Forest  0.545455   0.500000     0.8  0.615385\n"
          ]
        },
        {
          "output_type": "stream",
          "name": "stderr",
          "text": [
            "<ipython-input-50-92078c490425>:11: FutureWarning: The frame.append method is deprecated and will be removed from pandas in a future version. Use pandas.concat instead.\n",
            "  results = results.append(tuned_random_forest_metrics, ignore_index=True)\n"
          ]
        }
      ]
    },
    {
      "cell_type": "code",
      "source": [
        "# Print the results DataFrame\n",
        "print(results)\n",
        "\n",
        "# Identify the row index for the Random Forest results\n",
        "rf_default_index = results[results['Classifier'] == 'Random Forest'].index[0]\n",
        "rf_tuned_index = results[results['Classifier'] == 'Tuned Random Forest'].index[0]\n",
        "\n",
        "# Extract metrics for the Random Forest (default and tuned)\n",
        "rf_default_metrics = results.loc[rf_default_index, ['Accuracy', 'Precision', 'Recall', 'F1 Score']]\n",
        "rf_tuned_metrics = results.loc[rf_tuned_index, ['Accuracy', 'Precision', 'Recall', 'F1 Score']]\n",
        "\n",
        "# Print the comparison\n",
        "print(\"\\nComparison between Default and Tuned Random Forest:\")\n",
        "print(\"Default Metrics:\", rf_default_metrics.values)\n",
        "print(\"Tuned Metrics:\", rf_tuned_metrics.values)"
      ],
      "metadata": {
        "colab": {
          "base_uri": "https://localhost:8080/"
        },
        "id": "KWha6kww3Bfz",
        "outputId": "c6574cf6-eacf-40e8-ec5b-75d97e910afa"
      },
      "execution_count": null,
      "outputs": [
        {
          "output_type": "stream",
          "name": "stdout",
          "text": [
            "            Classifier  Accuracy  Precision  Recall  F1 Score\n",
            "0            LinearSVC  0.818182   1.000000     0.6  0.750000\n",
            "1        Decision Tree  0.909091   0.833333     1.0  0.909091\n",
            "2        Random Forest  0.727273   0.666667     0.8  0.727273\n",
            "3   K-Nearest Neighbor  0.454545   0.454545     1.0  0.625000\n",
            "4  Tuned Random Forest  0.545455   0.500000     0.8  0.615385\n",
            "\n",
            "Comparison between Default and Tuned Random Forest:\n",
            "Default Metrics: [0.7272727272727273 0.6666666666666666 0.8 0.7272727272727272]\n",
            "Tuned Metrics: [0.5454545454545454 0.5 0.8 0.6153846153846154]\n"
          ]
        }
      ]
    },
    {
      "cell_type": "code",
      "source": [
        "# Assuming you have the 'best_random_forest' model trained on your data\n",
        "\n",
        "# Get feature importances from the trained Random Forest model\n",
        "feature_importances = best_random_forest.feature_importances_\n",
        "\n",
        "# Create a DataFrame to associate features with their importances\n",
        "feature_importance_df = pd.DataFrame({\n",
        "    'Feature': X_train.columns,\n",
        "    'Importance': feature_importances\n",
        "})\n",
        "\n",
        "# Sort the DataFrame by importance in descending order\n",
        "feature_importance_df = feature_importance_df.sort_values(by='Importance', ascending=False)\n",
        "\n",
        "# Print the top 5 features\n",
        "top_features = feature_importance_df.head(5)\n",
        "print(\"Top 5 Features:\")\n",
        "print(top_features)\n"
      ],
      "metadata": {
        "colab": {
          "base_uri": "https://localhost:8080/"
        },
        "id": "J7AgdjCX3Bbu",
        "outputId": "160da7e4-a7e9-4d30-e6fb-49d3a80af47f"
      },
      "execution_count": null,
      "outputs": [
        {
          "output_type": "stream",
          "name": "stdout",
          "text": [
            "Top 5 Features:\n",
            "        Feature  Importance\n",
            "4       Albumin    0.168479\n",
            "1     Bilirubin    0.121402\n",
            "5       PROTIME    0.089891\n",
            "25  Ascites_yes    0.061158\n",
            "27  Varices_yes    0.060003\n"
          ]
        }
      ]
    },
    {
      "cell_type": "code",
      "source": [
        "from sklearn.neural_network import MLPClassifier\n",
        "from sklearn.metrics import accuracy_score, precision_score, recall_score, f1_score\n",
        "\n",
        "# Assuming you have trained classifiers and corresponding test sets\n",
        "classifiers = [linear_svc, decision_tree, random_forest, knn]\n",
        "X_test_classifiers = [X_test, X_test, X_test, X_test]\n",
        "\n",
        "# Fit the RandomForestClassifier before making predictions\n",
        "random_forest.fit(X_train, y_train)\n",
        "\n",
        "# Get predictions from each classifier\n",
        "predictions = [classifier.predict(X_test_classifier) for classifier, X_test_classifier in zip(classifiers, X_test_classifiers)]\n",
        "\n",
        "# Create a DataFrame to store individual classifier predictions\n",
        "ensemble_predictions_df = pd.DataFrame({\n",
        "    'LinearSVC': predictions[0],\n",
        "    'DecisionTree': predictions[1],\n",
        "    'RandomForest': predictions[2],\n",
        "    'KNN': predictions[3]\n",
        "})\n",
        "\n",
        "# Initialize the MLP classifier for stacking\n",
        "mlp_classifier = MLPClassifier(hidden_layer_sizes=(100,), max_iter=1000, random_state=42)\n",
        "\n",
        "# Fit the MLP classifier on the individual classifier predictions\n",
        "mlp_classifier.fit(ensemble_predictions_df, y_test)\n",
        "\n",
        "# Make predictions using the ensemble model\n",
        "ensemble_predictions = mlp_classifier.predict(ensemble_predictions_df)\n",
        "\n",
        "# Evaluate the performance of the ensemble model\n",
        "ensemble_accuracy = accuracy_score(y_test, ensemble_predictions)\n",
        "ensemble_precision = precision_score(y_test, ensemble_predictions)\n",
        "ensemble_recall = recall_score(y_test, ensemble_predictions)\n",
        "ensemble_f1 = f1_score(y_test, ensemble_predictions)\n",
        "\n",
        "# Display the evaluation metrics for the ensemble model\n",
        "print(\"\\nEnsemble Model Evaluation Metrics:\")\n",
        "print(\"Accuracy:\", ensemble_accuracy)\n",
        "print(\"Precision:\", ensemble_precision)\n",
        "print(\"Recall:\", ensemble_recall)\n",
        "print(\"F1 Score:\", ensemble_f1)\n",
        "\n"
      ],
      "metadata": {
        "colab": {
          "base_uri": "https://localhost:8080/"
        },
        "id": "k584zE9E3Bac",
        "outputId": "bb9c61ee-3a3d-497c-ef46-0a1b3497505d"
      },
      "execution_count": null,
      "outputs": [
        {
          "output_type": "stream",
          "name": "stdout",
          "text": [
            "\n",
            "Ensemble Model Evaluation Metrics:\n",
            "Accuracy: 0.9090909090909091\n",
            "Precision: 0.8333333333333334\n",
            "Recall: 1.0\n",
            "F1 Score: 0.9090909090909091\n"
          ]
        }
      ]
    },
    {
      "cell_type": "code",
      "source": [],
      "metadata": {
        "id": "A_MWcdmo3BWE"
      },
      "execution_count": null,
      "outputs": []
    },
    {
      "cell_type": "code",
      "source": [],
      "metadata": {
        "id": "5XdS-jxY3BO9"
      },
      "execution_count": null,
      "outputs": []
    }
  ]
}